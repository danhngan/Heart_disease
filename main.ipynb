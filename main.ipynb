{
 "cells": [
  {
   "cell_type": "markdown",
   "metadata": {},
   "source": [
    "# Problem\n",
    "**Mục tiêu: Sử dụng các yếu tố sức khỏe để dự đoán một người có mắc bệnh tim hay không**\n",
    "\n",
    "**Metric: AUC, Precision với Recall = 90 %**\n",
    "\n",
    "Biến mục tiêu:\n",
    "\n",
    "Có hai hướng đi:\n",
    "1. Tình trạng bệnh tim với `0` là không mắc bệnh, `1` là mắc bệnh\n",
    "2. Khả năng một người mắc bệnh tim (số thực mang giá trị `[0;1]`)\n",
    "- **Important**: dataset của chúng ta không có sẵn biến mục tiêu dạng này, biến gần nhất là tình trạng bệnh tim nhận giá trị `0` hoặc `1`\n",
    "- Đầu ra của mô hình phải phù hợp với các tính toán được y học chấp nhận\n",
    "\n",
    "Thông qua phân tích sơ bộ, tỷ lệ mắc bệnh chung vào khoảng 9%, để đầu ra thực sự có ích, thì với recall 90% tôi mong muốn có thể có Precision tối thiểu 18%, và với recall 95%, precision 14%.\n",
    "\n",
    "Các biến dự đoán: vì đây là một vấn đề cần phân tích kỹ hơn, nên tôi sẽ thực hiện file `preprocessing.ipynb` trước khi đưa ra những nhận định về các biến dự đoán.\n",
    "\n",
    "Tuy chúng ta không thể tự mình tìm kiếm thêm các thông tin về yếu tố sức khỏe, nhưng việc xem xét thêm các yếu tố nằm ngoài bộ dataset được chứng minh bằng các nghiên cứu y học có thể giúp ích cho việc cải tiến mô hình sau này. Vì thế, hãy xem qua một số nguồn:\n",
    "- https://www.ncbi.nlm.nih.gov/pmc/articles/PMC7210118/\n",
    "- https://www.ncbi.nlm.nih.gov/pmc/articles/PMC7871691/\n",
    "\n"
   ]
  },
  {
   "cell_type": "code",
   "execution_count": null,
   "metadata": {},
   "outputs": [],
   "source": []
  }
 ],
 "metadata": {
  "language_info": {
   "name": "python"
  },
  "orig_nbformat": 4
 },
 "nbformat": 4,
 "nbformat_minor": 2
}
