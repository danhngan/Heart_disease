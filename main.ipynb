{
 "cells": [
  {
   "cell_type": "markdown",
   "metadata": {},
   "source": [
    "# Problem\n",
    "**Mục tiêu: Sử dụng các yếu tố sức khỏe để dự đoán khả năng một người mắc bệnh tim**\n",
    "\n",
    "Biến mục tiêu:\n",
    "- Khả năng một người mắc bệnh tim (số thực mang giá trị [0;1]), dataset của chúng ta không sẵn có khả năng mắc bệnh, nên chúng ta sẽ cần tính toán một chút\n",
    "\n",
    "Các biến dự đoán: vì đây là một vấn đề cần phân tích kỹ hơn, nên tôi sẽ thực hiện file `preprocessing.ipynb` trước khi đưa ra những nhận định về các biến dự đoán.\n",
    "\n",
    "Tuy chúng ta không thể tự mình tìm kiếm thêm các thông tin về yếu tố sức khỏe, nhưng việc xem xét thêm các yếu tố nằm ngoài bộ dataset được chứng minh bằng các nghiên cứu y học có thể giúp ích cho việc cải tiến mô hình sau này. Vì thế, hãy xem qua một số nguồn:\n",
    "- https://www.ncbi.nlm.nih.gov/pmc/articles/PMC7210118/\n",
    "- https://www.ncbi.nlm.nih.gov/pmc/articles/PMC7871691/"
   ]
  },
  {
   "cell_type": "code",
   "execution_count": null,
   "metadata": {},
   "outputs": [],
   "source": []
  }
 ],
 "metadata": {
  "language_info": {
   "name": "python"
  },
  "orig_nbformat": 4
 },
 "nbformat": 4,
 "nbformat_minor": 2
}
